{
  "nbformat": 4,
  "nbformat_minor": 0,
  "metadata": {
    "colab": {
      "provenance": [],
      "include_colab_link": true
    },
    "kernelspec": {
      "name": "python3",
      "display_name": "Python 3"
    },
    "language_info": {
      "name": "python"
    }
  },
  "cells": [
    {
      "cell_type": "markdown",
      "metadata": {
        "id": "view-in-github",
        "colab_type": "text"
      },
      "source": [
        "<a href=\"https://colab.research.google.com/github/Pablo7776/Laboratorio_de_ventas/blob/colab/NuevoBig_6EZ.ipynb\" target=\"_parent\"><img src=\"https://colab.research.google.com/assets/colab-badge.svg\" alt=\"Open In Colab\"/></a>"
      ]
    },
    {
      "cell_type": "code",
      "execution_count": null,
      "metadata": {
        "id": "9oP4rYwgjRAx"
      },
      "outputs": [],
      "source": [
        "from google.colab import drive\n",
        "drive.mount(\"/content/drive\")\n",
        "\n"
      ]
    },
    {
      "cell_type": "code",
      "source": [
        "import plotly.graph_objects as go\n",
        "import os\n",
        "import pandas as pd"
      ],
      "metadata": {
        "id": "6inRKgC1jayx"
      },
      "execution_count": null,
      "outputs": []
    },
    {
      "cell_type": "code",
      "source": [
        "#ruta_de_archivos=\"/content/drive/MyDrive/ipynb_checkpoints\"\n",
        "ruta_de_archivos=\"/content/drive/MyDrive/Colab Notebooks/ELEMENTOS DE APRENDIZAJE DE MÁQUINA Y BIG DATA/PROYECTO1/DATASET_VENTAS_MESES\"\n",
        "\n",
        "archivos= os.listdir(ruta_de_archivos)"
      ],
      "metadata": {
        "id": "Cxk-dW10jg2n"
      },
      "execution_count": null,
      "outputs": []
    },
    {
      "cell_type": "code",
      "source": [
        "archivos"
      ],
      "metadata": {
        "id": "xyUPARqCvrKL"
      },
      "execution_count": null,
      "outputs": []
    },
    {
      "cell_type": "code",
      "source": [
        "# Inicializa un DataFrame vacío para almacenar los datos combinados\n",
        "datos_combinados = pd.DataFrame()\n",
        "\n",
        "# Itera a través de la lista de archivos y combina los datos en el DataFrame\n",
        "for archivo in archivos:\n",
        "    #print (archivo)\n",
        "    if archivo.endswith('.csv'):  # Asegurarse de que solo se consideren archivos CSV\n",
        "      ruta_completa = os.path.join(ruta_de_archivos, archivo)  # Ruta completa al archivo\n",
        "      df = pd.read_csv(ruta_completa)\n",
        "      datos_combinados = pd.concat([datos_combinados, df], ignore_index=True)\n",
        "\n",
        "# Guarda el DataFrame resultante en un nuevo archivo CSV\n",
        "#datos_combinados.to_csv(f\"/content/drive/MyDrive/ipynb_checkpoints/datos_combinados.csv\", index=False)\n",
        "\n",
        "datos_combinados.to_csv(f\"/content/drive/MyDrive/Colab Notebooks/ELEMENTOS DE APRENDIZAJE DE MÁQUINA Y BIG DATA/PROYECTO1/datos_combinados.csv\", index=False)\n"
      ],
      "metadata": {
        "id": "SGwD5lt-jzDE"
      },
      "execution_count": null,
      "outputs": []
    },
    {
      "cell_type": "code",
      "source": [
        "datos_combinados"
      ],
      "metadata": {
        "id": "IMGRDgY5uAoI"
      },
      "execution_count": null,
      "outputs": []
    },
    {
      "cell_type": "markdown",
      "source": [
        "**LIMPIEZA BÁSICA**"
      ],
      "metadata": {
        "id": "Y7xkO7kYEq9v"
      }
    },
    {
      "cell_type": "code",
      "source": [
        "datos_combinados = datos_combinados.drop_duplicates() # Elimino filas duplicadas\n",
        "\n"
      ],
      "metadata": {
        "id": "Ph2Anm3GEp_Y"
      },
      "execution_count": null,
      "outputs": []
    },
    {
      "cell_type": "code",
      "source": [
        "datos_combinados"
      ],
      "metadata": {
        "id": "6edVplgCIQg7"
      },
      "execution_count": null,
      "outputs": []
    },
    {
      "cell_type": "code",
      "source": [
        "\n",
        "datos_combinados['Cantidad Pedida'] = pd.to_numeric(datos_combinados['Cantidad Pedida'], errors='coerce')  #El errors= 'coerce' transforma los valores no numericos a NaN'\n",
        "datos_combinados['Precio Unitario'] = pd.to_numeric(datos_combinados['Precio Unitario'], errors='coerce')\n",
        "\n",
        "\n",
        "datos_combinados = datos_combinados.loc[~datos_combinados['Cantidad Pedida'].isna()]\n",
        "datos_combinados = datos_combinados.loc[~datos_combinados['Precio Unitario'].isna()]\n",
        "\n",
        "        # Elimino todos los Nan y me quedo solo con los valores numericos\n",
        "datos_combinados = datos_combinados.dropna()\n",
        "\n",
        "        # Transformo todos los valores numericos al tipo de dato int\n",
        "datos_combinados['Cantidad Pedida'] = datos_combinados['Cantidad Pedida'].astype(int)\n",
        "datos_combinados['Precio Unitario'] = datos_combinados['Precio Unitario'].astype(int)"
      ],
      "metadata": {
        "id": "BzDmtWigHded"
      },
      "execution_count": null,
      "outputs": []
    },
    {
      "cell_type": "code",
      "source": [
        "datos_combinados"
      ],
      "metadata": {
        "id": "h0WgoEVOII25"
      },
      "execution_count": null,
      "outputs": []
    },
    {
      "cell_type": "markdown",
      "source": [
        "\n",
        "----------------------------------------------------------------------------------------------------------------------------------------------------------------\n",
        "1. Comportamiento de las ventas en los distintos meses:\n",
        "\n",
        "  ● ¿Cómo variaron las ventas a lo largo de los diferentes meses?\n",
        "\n",
        "  ● ¿Hubo algún mes que se destacó en términos de ventas?\n",
        "\n",
        "  ● ¿Cuál es el ingreso total generado por mes?\n",
        "\n",
        "----------------------------------------------------------------------------------------------------------------------------------------------------------------"
      ],
      "metadata": {
        "id": "HXRVUlbLLg4u"
      }
    },
    {
      "cell_type": "code",
      "source": [
        "#Trasformo los valores en un formato de fecha y hora\n",
        "datos_combinados['Fecha de Compra'] = pd.to_datetime(datos_combinados['Fecha de Pedido']) #Si no aplicamos esto, cuando queremos extraer la hora nos tira error"
      ],
      "metadata": {
        "id": "0bOmGEfTM1vO"
      },
      "execution_count": null,
      "outputs": []
    },
    {
      "cell_type": "code",
      "source": [
        "# Realizamos una funcion\n",
        "def extraer_mes(datos):\n",
        "  datos['Mes'] = datos['Fecha de Compra'].dt.month\n",
        "\n",
        "  return datos"
      ],
      "metadata": {
        "id": "0yNUq6auLrRq"
      },
      "execution_count": null,
      "outputs": []
    },
    {
      "cell_type": "code",
      "source": [
        "datos_combinados =  extraer_mes(datos_combinados) #Aplicamos la funcion\n",
        "\n",
        "datos_combinados = datos_combinados.sort_values(by='Mes')#ordeno los meses\n",
        "datos_combinados"
      ],
      "metadata": {
        "id": "hT2Npsv-L-jS"
      },
      "execution_count": null,
      "outputs": []
    },
    {
      "cell_type": "code",
      "source": [
        "# Agrupo los Productoos y la cantidad ordenada y realizo la sumatoria de los Productoos vendidos\n",
        "Productos_vendidos = datos_combinados.groupby('Mes')['Cantidad Pedida'].sum() #Aca se puede hacer muchas operaciones .sum() .min() .max() .std() etc\n",
        "\n",
        "# Ordeno los de mayor a menor segun la cantidad de Productoos vendidos\n",
        "#Productos_vendidos_ordenados = Productos_vendidos.sort_values(ascending=False )\n",
        "\n",
        "#crea el dataframe\n",
        "df_Productos = pd.DataFrame({'Mes':Productos_vendidos.index, 'Cantidad Pedida':Productos_vendidos.values})\n",
        "\n",
        "\n",
        "df_Productos"
      ],
      "metadata": {
        "id": "ne5xqjY8Oqn9"
      },
      "execution_count": null,
      "outputs": []
    },
    {
      "cell_type": "code",
      "source": [
        "# Define un diccionario de mapeo de números a nombres de meses\n",
        "meses = {\n",
        "    1: 'enero',\n",
        "    2: 'febrero',\n",
        "    3: 'marzo',\n",
        "    4: 'abril',\n",
        "    5: 'mayo',\n",
        "    6: 'junio',\n",
        "    7: 'julio',\n",
        "    8: 'agosto',\n",
        "    9: 'septiembre',\n",
        "    10: 'octubre',\n",
        "    11: 'noviembre',\n",
        "    12: 'diciembre'\n",
        "}\n",
        "\n",
        "# Aplica el reemplazo utilizando el diccionario\n",
        "df_Productos['Mes'] = df_Productos['Mes'].map(meses)\n",
        "\n",
        "\n",
        "df_Productos"
      ],
      "metadata": {
        "id": "mLCuyBWyTeb9"
      },
      "execution_count": null,
      "outputs": []
    },
    {
      "cell_type": "code",
      "source": [
        "import plotly.graph_objects as go"
      ],
      "metadata": {
        "id": "sKNVnYLaUWs-"
      },
      "execution_count": null,
      "outputs": []
    },
    {
      "cell_type": "code",
      "source": [
        "# Creo el objeto figura con el gráfico de barras\n",
        "fig = go.Figure()\n",
        "\n",
        "fig.add_trace(go.Bar(\n",
        "    x=df_Productos.Mes,\n",
        "    y=df_Productos['Cantidad Pedida'],\n",
        "    marker=dict(color=df_Productos['Cantidad Pedida'], colorscale = 'RdYlGn', colorbar=dict(title=\"Total de ventas\", x=1.0, thickness=15)),  # Color y barra de colores\n",
        "    text=df_Productos['Cantidad Pedida'],\n",
        "    textposition='auto',  # Muestro el valor encima de las barras\n",
        "\n",
        "))\n",
        "\n",
        "# Configuro los ejes y los títulos\n",
        "fig.update_layout(\n",
        "    title=\"Total de ventas por mes\",\n",
        "    xaxis=dict(title=\"Mes\"),\n",
        "    yaxis=dict(title=\"Total de ventas\"),\n",
        ")\n",
        "\n",
        "fig.show()"
      ],
      "metadata": {
        "id": "nhklumqKUaDg"
      },
      "execution_count": null,
      "outputs": []
    },
    {
      "cell_type": "code",
      "source": [
        "\n",
        "# Suponiendo que tienes un DataFrame llamado datos_combinados con columnas 'Mes', 'Precio Unitario' y 'Cantidad Vendida'\n",
        "# Calcula el total de ingresos para cada mes\n",
        "datos_combinados['Total Ingresos'] = datos_combinados['Precio Unitario'] * datos_combinados['Cantidad Pedida']\n",
        "\n",
        "# Agrupa los datos por mes y suma los ingresos\n",
        "total_ingresos = datos_combinados.groupby('Mes')['Total Ingresos'].sum()\n",
        "\n",
        "# Imprime el resultado\n",
        "total_ingresos\n",
        "#df_Productos2\n",
        "\n",
        "total_ingresos = pd.DataFrame({'Mes':total_ingresos.index, 'Total por mes':total_ingresos.values})\n",
        "total_ingresos"
      ],
      "metadata": {
        "id": "6DD96zq1N1Qg"
      },
      "execution_count": null,
      "outputs": []
    },
    {
      "cell_type": "code",
      "source": [
        "# Aplica el reemplazo utilizando el diccionario\n",
        "total_ingresos['Mes'] = total_ingresos['Mes'].map(meses)\n",
        "\n",
        "\n",
        "total_ingresos"
      ],
      "metadata": {
        "id": "Z1zkZ4NymU8R"
      },
      "execution_count": null,
      "outputs": []
    },
    {
      "cell_type": "code",
      "source": [
        "# Creo el objeto figura con el gráfico de barras\n",
        "fig = go.Figure()\n",
        "\n",
        "fig.add_trace(go.Bar(\n",
        "    x=total_ingresos.Mes,\n",
        "    y=total_ingresos['Total por mes'],\n",
        "    marker=dict(color=total_ingresos['Total por mes'], colorscale = 'RdYlGn', colorbar=dict(title=\"Total de ventas\", x=1.0, thickness=15)),  # Color y barra de colores\n",
        "    text=total_ingresos['Total por mes'],\n",
        "    textposition='auto',  # Muestro el valor encima de las barras\n",
        "\n",
        "))\n",
        "\n",
        "# Configuro los ejes y los títulos\n",
        "fig.update_layout(\n",
        "    title=\"Total de ingresos por mes\",\n",
        "    xaxis=dict(title=\"Mes\"),\n",
        "    yaxis=dict(title=\"Total de ventas\"),\n",
        ")\n",
        "\n",
        "fig.show()"
      ],
      "metadata": {
        "id": "jz32KEypnhj1"
      },
      "execution_count": null,
      "outputs": []
    },
    {
      "cell_type": "markdown",
      "source": [
        "----------------------------------------------------------------------------------------------------------------------------------------------------------------\n",
        "\n",
        "2. Optimización de la publicidad y patrón de ventas por hora:\n",
        "\n",
        "● ¿Cuál es el momento ideal del día para presentar la publicidad y aumentar la\n",
        "probabilidad de compra?\n",
        "\n",
        "● ¿Cómo cambian los patrones de ventas por hora a lo largo del año?\n",
        "\n",
        "● ¿Hay modificaciones en los patrones de ventas durante las horas de mayor actividad\n",
        "en los distintos meses?\n",
        "\n",
        "----------------------------------------------------------------------------------------------------------------------------------------------------------------"
      ],
      "metadata": {
        "id": "EkshhFrzFOrZ"
      }
    },
    {
      "cell_type": "code",
      "source": [
        "# Convertir 'Fecha de Compra' al formato datetime\n",
        "datos_combinados['Fecha de Compra'] = pd.to_datetime(datos_combinados['Fecha de Compra'], format='%m/%d/%y %H:%M')\n",
        "\n",
        "# Extraer la hora del día\n",
        "datos_combinados['Hora del Día'] = datos_combinados['Fecha de Compra'].dt.hour\n",
        "\n",
        "# Calcular la probabilidad de compra por hora del día\n",
        "probabilidad_compra_por_hora = datos_combinados.groupby('Hora del Día')['ID de Pedido'].count() / len(datos_combinados)\n",
        "\n",
        "# Encontrar el momento ideal\n",
        "momento_ideal = probabilidad_compra_por_hora.idxmax()\n",
        "\n",
        "print(f\"El momento ideal para presentar publicidad es a las {momento_ideal}:00 horas.\")\n",
        "\n"
      ],
      "metadata": {
        "id": "t3wuQXSUFTRq"
      },
      "execution_count": null,
      "outputs": []
    },
    {
      "cell_type": "code",
      "source": [
        "import matplotlib.pyplot as plt\n",
        "\n",
        "# Calcular la probabilidad de compra por hora del día\n",
        "probabilidad_compra_por_hora = datos_combinados.groupby('Hora del Día')['ID de Pedido'].count() / len(datos_combinados)\n",
        "\n",
        "# Crear un gráfico de barras\n",
        "plt.figure(figsize=(12, 6))\n",
        "plt.bar(probabilidad_compra_por_hora.index, probabilidad_compra_por_hora.values)\n",
        "\n",
        "# Configurar el título y etiquetas de los ejes\n",
        "plt.title('Probabilidad de Compra por Hora del Día')\n",
        "plt.xlabel('Hora del Día')\n",
        "plt.ylabel('Probabilidad de Compra')\n",
        "\n",
        "# Mostrar el gráfico\n",
        "plt.show()\n"
      ],
      "metadata": {
        "id": "EqXlBu5iGu60"
      },
      "execution_count": null,
      "outputs": []
    },
    {
      "cell_type": "code",
      "source": [
        "import matplotlib.pyplot as plt\n",
        "\n",
        "# Extraer el mes de la columna 'Fecha de Compra'\n",
        "datos_combinados['Mes'] = datos_combinados['Fecha de Compra'].dt.month\n",
        "\n",
        "# Crear un DataFrame con la cantidad de ventas por hora para cada mes\n",
        "ventas_por_hora_por_mes = datos_combinados.groupby(['Mes', 'Hora del Día'])['ID de Pedido'].count().unstack()\n",
        "\n",
        "# Crear el gráfico de líneas\n",
        "plt.figure(figsize=(12, 6))\n",
        "for mes in range(1, 13):  # Iterar a través de los meses del año\n",
        "    plt.plot(ventas_por_hora_por_mes.loc[mes], label=f'Mes {mes}')\n",
        "\n",
        "# Configurar el título y etiquetas de los ejes\n",
        "plt.title('Cambios en los Patrones de Ventas por Hora a lo Largo del Año')\n",
        "plt.xlabel('Hora del Día')\n",
        "plt.ylabel('Cantidad de Ventas')\n",
        "plt.legend(title='Mes')\n",
        "\n",
        "print(\"Visualización de Cambios en los Patrones de Ventas por Hora a lo Largo del Año\")\n",
        "\n",
        "# Muestra el gráfico de líneas\n",
        "plt.show()\n",
        "\n"
      ],
      "metadata": {
        "id": "n50CxYqdLWJ7"
      },
      "execution_count": null,
      "outputs": []
    },
    {
      "cell_type": "code",
      "source": [
        "import numpy as np\n",
        "\n",
        "# Calcular el promedio de ventas por hora para todos los meses\n",
        "ventas_promedio_por_hora = datos_combinados.groupby('Hora del Día')['ID de Pedido'].count() / len(datos_combinados)\n",
        "\n",
        "# Identificar los meses de mayor y menor actividad\n",
        "meses_con_mas_ventas = ventas_promedio_por_hora.groupby(datos_combinados['Mes']).mean().nlargest(3).index\n",
        "meses_con_menos_ventas = ventas_promedio_por_hora.groupby(datos_combinados['Mes']).mean().nsmallest(3).index\n",
        "\n",
        "# Calcular el promedio de ventas por hora para los meses de mayor y menor actividad\n",
        "ventas_promedio_por_hora_meses_mas_activos = ventas_por_hora_por_mes.loc[meses_con_mas_ventas].mean()\n",
        "ventas_promedio_por_hora_meses_menos_activos = ventas_por_hora_por_mes.loc[meses_con_menos_ventas].mean()\n",
        "\n",
        "# Comparar los patrones de ventas por hora entre los meses de mayor y menor actividad\n",
        "print(\"Comparación de Patrones de Ventas por Hora\")\n",
        "print(\"------------------------------------------\")\n",
        "print(\"Promedio de Ventas por Hora para Meses Más Activos:\")\n",
        "print(ventas_promedio_por_hora_meses_mas_activos)\n",
        "print(\"\\nPromedio de Ventas por Hora para Meses Menos Activos:\")\n",
        "print(ventas_promedio_por_hora_meses_menos_activos)\n",
        "\n"
      ],
      "metadata": {
        "id": "Pbf7H1FqMGzh"
      },
      "execution_count": null,
      "outputs": []
    },
    {
      "cell_type": "code",
      "source": [
        "import matplotlib.pyplot as plt\n",
        "\n",
        "# Calcular el promedio de ventas por hora para todos los meses\n",
        "ventas_promedio_por_hora = datos_combinados.groupby('Hora del Día')['ID de Pedido'].count() / len(datos_combinados)\n",
        "\n",
        "# Identificar los meses de mayor y menor actividad\n",
        "meses_con_mas_ventas = ventas_promedio_por_hora.groupby(datos_combinados['Mes']).mean().nlargest(3).index\n",
        "meses_con_menos_ventas = ventas_promedio_por_hora.groupby(datos_combinados['Mes']).mean().nsmallest(3).index\n",
        "\n",
        "# Calcular el promedio de ventas por hora para los meses de mayor y menor actividad\n",
        "ventas_promedio_por_hora_meses_mas_activos = ventas_por_hora_por_mes.loc[meses_con_mas_ventas].mean()\n",
        "ventas_promedio_por_hora_meses_menos_activos = ventas_por_hora_por_mes.loc[meses_con_menos_ventas].mean()\n",
        "\n",
        "# Crear el gráfico\n",
        "plt.figure(figsize=(12, 6))\n",
        "\n",
        "# Plotear los promedios de ventas por hora para los meses más activos\n",
        "for mes in meses_con_mas_ventas:\n",
        "    plt.plot(ventas_por_hora_por_mes.loc[mes], label=f'Mes {mes} (Más Ventas)')\n",
        "\n",
        "# Plotear los promedios de ventas por hora para los meses menos activos\n",
        "for mes in meses_con_menos_ventas:\n",
        "    plt.plot(ventas_por_hora_por_mes.loc[mes], linestyle='--', label=f'Mes {mes} (Menos Ventas)')\n",
        "\n",
        "# Configurar el título y etiquetas de los ejes\n",
        "plt.title('Comparación de Patrones de Ventas por Hora entre Meses Más y Menos Activos')\n",
        "plt.xlabel('Hora del Día')\n",
        "plt.ylabel('Cantidad de Ventas Promedio')\n",
        "plt.legend(title='Mes', loc='upper right')\n",
        "\n",
        "# Mostrar el gráfico\n",
        "plt.grid(True)\n",
        "plt.show()\n"
      ],
      "metadata": {
        "id": "Mg7BdIVsNNT7"
      },
      "execution_count": null,
      "outputs": []
    },
    {
      "cell_type": "markdown",
      "source": [
        "3. Distribución de ventas por ubicación:\n",
        "\n",
        "● ¿En qué ciudades se han registrado las mayores ventas?\n",
        "\n",
        "● ¿Cómo se comparan las ventas en diferentes estados o regiones?\n",
        "\n",
        "● ¿Existe variación en las ventas por estado a lo largo de los meses?"
      ],
      "metadata": {
        "id": "T5KvbgqUP5qR"
      }
    },
    {
      "cell_type": "code",
      "source": [
        "# Calcular las ventas totales por ubicación (dirección de envío)\n",
        "ventas_por_ubicacion = datos_combinados.groupby('Dirección de Envio')['Cantidad Pedida'].sum()\n",
        "\n",
        "# Ordenar las ubicaciones de mayor a menor ventas\n",
        "ventas_por_ubicacion_ordenadas = ventas_por_ubicacion.sort_values(ascending=False)\n",
        "\n",
        "# Mostrar las ubicaciones con las mayores ventas\n",
        "ubicaciones_con_mayores_ventas = ventas_por_ubicacion_ordenadas.head(10)\n",
        "print(ubicaciones_con_mayores_ventas)\n"
      ],
      "metadata": {
        "id": "RGtA7HYmQHos"
      },
      "execution_count": null,
      "outputs": []
    },
    {
      "cell_type": "code",
      "source": [
        "# Extraer el estado de la dirección de envío\n",
        "datos_combinados['Estado'] = datos_combinados['Dirección de Envio'].str.split(',').str[-2].str.strip()\n",
        "\n",
        "# Calcular las ventas totales por estado\n",
        "ventas_por_estado = datos_combinados.groupby('Estado')['Cantidad Pedida'].sum()\n",
        "\n",
        "# Ordenar los estados de mayor a menor ventas\n",
        "ventas_por_estado_ordenadas = ventas_por_estado.sort_values(ascending=False)\n",
        "\n",
        "# Mostrar las ventas por estado\n",
        "print(ventas_por_estado_ordenadas)\n"
      ],
      "metadata": {
        "id": "SZSZwC_UQSz1"
      },
      "execution_count": null,
      "outputs": []
    },
    {
      "cell_type": "code",
      "source": [
        "# Calcular las ventas mensuales por estado\n",
        "ventas_mensuales_por_estado = datos_combinados.groupby(['Estado', 'Mes'])['Cantidad Pedida'].sum().unstack()\n",
        "\n",
        "# Crear un gráfico de barras apiladas para mostrar la variación en las ventas por estado a lo largo de los meses\n",
        "ventas_mensuales_por_estado.plot(kind='bar', stacked=True, figsize=(12, 6))\n",
        "\n",
        "# Configurar el título y etiquetas de los ejes\n",
        "plt.title('Variación en las Ventas por Estado a lo Largo de los Meses')\n",
        "plt.xlabel('Mes')\n",
        "plt.ylabel('Ventas Totales')\n",
        "plt.legend(title='Estado', loc='upper right')\n",
        "\n",
        "# Mostrar el gráfico\n",
        "plt.grid(True)\n",
        "plt.show()\n"
      ],
      "metadata": {
        "id": "PoC2-MhmQU2V"
      },
      "execution_count": null,
      "outputs": []
    },
    {
      "cell_type": "markdown",
      "source": [
        "4. Análisis del producto más vendido:\n",
        "\n",
        "● ¿Cuál es el producto más vendido en general y en cada mes?\n",
        "\n",
        "● ¿Qué factores crees que han contribuido al éxito de ese producto en particular?"
      ],
      "metadata": {
        "id": "oxIHThtMQia-"
      }
    },
    {
      "cell_type": "code",
      "source": [
        "# Calcular el producto más vendido en general\n",
        "producto_mas_vendido_general = datos_combinados.groupby('Producto')['Cantidad Pedida'].sum().idxmax()\n",
        "print(f\"El producto más vendido en general es: {producto_mas_vendido_general}\")\n"
      ],
      "metadata": {
        "id": "Ox-HPB-bQnBU"
      },
      "execution_count": null,
      "outputs": []
    },
    {
      "cell_type": "code",
      "source": [
        "# Crear un DataFrame con los productos más vendidos por mes\n",
        "productos_mas_vendidos_por_mes = datos_combinados.groupby(['Mes', 'Producto'])['Cantidad Pedida'].sum().reset_index()\n",
        "\n",
        "# Encontrar el producto más vendido por mes\n",
        "productos_mas_vendidos_por_mes = productos_mas_vendidos_por_mes.loc[productos_mas_vendidos_por_mes.groupby('Mes')['Cantidad Pedida'].idxmax()]\n",
        "\n",
        "# Mostrar el producto más vendido por mes\n",
        "print(productos_mas_vendidos_por_mes)\n"
      ],
      "metadata": {
        "id": "sDmlKwyrQwwA"
      },
      "execution_count": null,
      "outputs": []
    },
    {
      "cell_type": "markdown",
      "source": [
        "5. Tendencia ventas:\n",
        "\n",
        "● ¿Existe alguna tendencia o patrón en las ventas que se repita a lo largo de los días en los diferentes meses?\n",
        "\n",
        "● ¿Cómo varían las ventas a lo largo de los diferentes días de la semana?\n",
        "\n",
        "● ¿Se observa alguna diferencia significativa en las ventas entre los días laborables y\n",
        "los fines de semana?\n"
      ],
      "metadata": {
        "id": "5g7m8LoQQzSS"
      }
    },
    {
      "cell_type": "code",
      "source": [
        "import matplotlib.pyplot as plt\n",
        "\n",
        "# Extraer el día de la semana de la columna 'Fecha de Compra'\n",
        "datos_combinados['Día de la Semana'] = datos_combinados['Fecha de Compra'].dt.day_name()\n",
        "\n",
        "# Crear un DataFrame con la cantidad de ventas por día de la semana para cada mes\n",
        "ventas_por_dia_por_mes = datos_combinados.groupby(['Mes', 'Día de la Semana'])['ID de Pedido'].count().unstack()\n",
        "\n",
        "# Crear el gráfico de líneas\n",
        "plt.figure(figsize=(12, 6))\n",
        "for mes in range(1, 13):  # Iterar a través de los meses del año\n",
        "    plt.plot(ventas_por_dia_por_mes.loc[mes], label=f'Mes {mes}')\n",
        "\n",
        "# Configurar el título y etiquetas de los ejes\n",
        "plt.title('Tendencia de Ventas por Día de la Semana en Diferentes Meses')\n",
        "plt.xlabel('Día de la Semana')\n",
        "plt.ylabel('Cantidad de Ventas')\n",
        "plt.legend(title='Mes')\n",
        "\n",
        "# Mostrar el gráfico\n",
        "plt.show()\n"
      ],
      "metadata": {
        "id": "CPoX15FzQ4KT"
      },
      "execution_count": null,
      "outputs": []
    },
    {
      "cell_type": "code",
      "source": [
        "# Crear un DataFrame con la cantidad de ventas por día de la semana en general\n",
        "ventas_por_dia_general = datos_combinados.groupby('Día de la Semana')['ID de Pedido'].count()\n",
        "\n",
        "# Crear el gráfico de barras\n",
        "plt.figure(figsize=(10, 5))\n",
        "dias_semana = ['Monday', 'Tuesday', 'Wednesday', 'Thursday', 'Friday', 'Saturday', 'Sunday']\n",
        "ventas_por_dia_general[dias_semana].plot(kind='bar')\n",
        "\n",
        "# Configurar el título y etiquetas de los ejes\n",
        "plt.title('Variación de Ventas por Día de la Semana (En General)')\n",
        "plt.xlabel('Día de la Semana')\n",
        "plt.ylabel('Cantidad de Ventas')\n",
        "\n",
        "# Mostrar el gráfico\n",
        "plt.show()\n"
      ],
      "metadata": {
        "id": "wSVBUFFYREYc"
      },
      "execution_count": null,
      "outputs": []
    },
    {
      "cell_type": "code",
      "source": [
        "# Crear una columna para identificar si el día es laborable o fin de semana\n",
        "datos_combinados['Día Laborable'] = datos_combinados['Día de la Semana'].isin(['Monday', 'Tuesday', 'Wednesday', 'Thursday', 'Friday'])\n",
        "\n",
        "# Crear un DataFrame con la cantidad de ventas por día laborable\n",
        "ventas_por_dia_laborable = datos_combinados.groupby('Día Laborable')['ID de Pedido'].count()\n",
        "\n",
        "# Crear el gráfico de barras\n",
        "plt.figure(figsize=(6, 4))\n",
        "ventas_por_dia_laborable.plot(kind='bar', x=['Laborable', 'Fin de Semana'], color=['blue', 'green'])\n",
        "\n",
        "# Configurar el título y etiquetas de los ejes\n",
        "plt.title('Diferencia en Ventas entre Días Laborables y Fines de Semana')\n",
        "plt.xlabel('Tipo de Día')\n",
        "plt.ylabel('Cantidad de Ventas')\n",
        "\n",
        "# Mostrar el gráfico\n",
        "plt.show()\n"
      ],
      "metadata": {
        "id": "f4V4DwrYRIPC"
      },
      "execution_count": null,
      "outputs": []
    },
    {
      "cell_type": "markdown",
      "source": [
        "6. Impacto de eventos especiales en las ventas:\n",
        "\n",
        "● ¿Se ha observado algún aumento o disminución significativa en las ventas en días cercanos a eventos especiales, como días festivos?\n",
        "\n",
        "● ¿Qué eventos específicos han tenido un impacto notable en el comportamiento de\n",
        "las ventas y cómo se manifestó ese impacto?\n"
      ],
      "metadata": {
        "id": "3UBB6jZkReM-"
      }
    },
    {
      "cell_type": "code",
      "source": [
        "import pandas as pd\n",
        "import matplotlib.pyplot as plt\n",
        "\n",
        "# Cargar tus datos\n",
        "datos_combinados = pd.read_csv('/content/drive/MyDrive/datos_combinados.csv')\n",
        "\n",
        "# Convertir la columna 'Fecha de Compra' a formato datetime\n",
        "datos_combinados['Fecha de Pedido'] = pd.to_datetime(datos_combinados['Fecha de Pedido'])\n",
        "\n",
        "# Crear una columna para el mes y el día de la semana del pedido\n",
        "datos_combinados['Mes'] = datos_combinados['Fecha de Pedido'].dt.month\n",
        "datos_combinados['Día de la Semana'] = datos_combinados['Fecha de Pedido'].dt.day_name()\n",
        "\n",
        "# Filtrar solo las ventas en diciembre (puedes cambiar el mes según tus necesidades)\n",
        "ventas_diciembre = datos_combinados[datos_combinados['Mes'] == 12]\n",
        "\n",
        "# Calcular la cantidad de ventas por día en diciembre\n",
        "ventas_por_día_diciembre = ventas_diciembre.groupby('Fecha de Pedido')['ID de Pedido'].count()\n",
        "# Obtener la fecha de la primera venta en diciembre\n",
        "primera_venta_diciembre = ventas_por_día_diciembre.index.min()\n",
        "\n",
        "# Imprimir la fecha de la primera venta en diciembre\n",
        "print(f\"La primera venta en diciembre ocurrió el {primera_venta_diciembre.strftime('%Y-%m-%d')}\")\n",
        "\n",
        "# Graficar las ventas por día en diciembre\n",
        "plt.figure(figsize=(12, 6))\n",
        "plt.plot(ventas_por_día_diciembre.index, ventas_por_día_diciembre.values, marker='o', linestyle='-')\n",
        "plt.title('Ventas por Día en Diciembre')\n",
        "plt.xlabel('Fecha de Pedido')\n",
        "plt.ylabel('Cantidad de Ventas')\n",
        "plt.grid(True)\n",
        "plt.show()"
      ],
      "metadata": {
        "id": "tWV27v-ERkyG"
      },
      "execution_count": null,
      "outputs": []
    }
  ]
}